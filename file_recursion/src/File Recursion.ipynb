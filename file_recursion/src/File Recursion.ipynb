{
 "cells": [
  {
   "cell_type": "markdown",
   "metadata": {},
   "source": [
    "## File Recursion"
   ]
  },
  {
   "cell_type": "code",
   "execution_count": 1,
   "metadata": {},
   "outputs": [],
   "source": [
    "import os\n",
    "\n",
    "class FileRecursion:\n",
    "    \"\"\"\n",
    "    Method to find file with a given suffix\n",
    "    Arguments:\n",
    "        suffix   : File extension e.g. .c\n",
    "        path     : File path to be search for file with given suffix. File path can be a regular file as well\n",
    "        file_list: Result set returned\n",
    "    \"\"\"\n",
    "    @staticmethod\n",
    "    def _find_files(suffix, path, file_list):\n",
    "        # Base case for recursion\n",
    "        if path is None:\n",
    "            return\n",
    "        # If the given path is not a directory but a file\n",
    "        if os.path.isfile(path):\n",
    "            # Check if the file ends with required suffix\n",
    "            if path.endswith(suffix):\n",
    "                # Add it to the list of results if the file has the suffix\n",
    "                file_list.append(path)\n",
    "            else:\n",
    "                return\n",
    "        else:\n",
    "            # If the path is a directory then for every entry in directory recurse\n",
    "            for content in os.listdir(path):\n",
    "                FileRecursion._find_files(suffix, os.path.join(path, content), file_list)\n",
    "\n",
    "\n",
    "    \"\"\"\n",
    "    Externally exposed method for finding file(s) with given suffix \n",
    "    \"\"\"\n",
    "    @staticmethod\n",
    "    def find_files(suffix, path):\n",
    "        file_list = []\n",
    "        FileRecursion._find_files(suffix, path, file_list)\n",
    "        return file_list\n",
    "    "
   ]
  },
  {
   "cell_type": "markdown",
   "metadata": {},
   "source": [
    "## Test Case"
   ]
  },
  {
   "cell_type": "code",
   "execution_count": 2,
   "metadata": {},
   "outputs": [
    {
     "name": "stderr",
     "output_type": "stream",
     "text": [
      "....\n",
      "----------------------------------------------------------------------\n",
      "Ran 4 tests in 0.005s\n",
      "\n",
      "OK\n"
     ]
    }
   ],
   "source": [
    "import unittest\n",
    "import mock\n",
    "import sys\n",
    "\n",
    "sys.path.append('./src')\n",
    "import file_recursion\n",
    "\n",
    "class TestFileRecursion(unittest.TestCase):\n",
    "\n",
    "    # Path name is a regular file not having the suffix\n",
    "    @mock.patch('file_recursion.os.path.isfile')\n",
    "    def test_find_file_when_path_single_file_without_matching_suffix(self, mock_isfile):\n",
    "        mock_isfile.return_value = True\n",
    "        self.assertEqual(file_recursion.FileRecursion.find_files('.c', '/users/foo/a.txt'), [])\n",
    "        self.assertEqual(mock_isfile.call_count, 1)\n",
    "        mock_isfile.called_with('/users/foo/a.txt')\n",
    "\n",
    "    # Path name is a regular file having the suffix\n",
    "    @mock.patch('file_recursion.os.path.isfile')\n",
    "    def test_find_file_when_path_is_single_file_with_matching_suffix(self, mock_isfile):\n",
    "        mock_isfile.return_value = True\n",
    "        self.assertEqual(file_recursion.FileRecursion.find_files('.c', '/users/foo/a.c'), ['/users/foo/a.c'])\n",
    "        self.assertEqual(mock_isfile.call_count, 1)\n",
    "        mock_isfile.called_with('/users/foo/a.c')\n",
    "\n",
    "    # Path name is null\n",
    "    @mock.patch('file_recursion.os.path.isfile')\n",
    "    def test_find_file_when_path_is_null(self, mock_isfile):\n",
    "        self.assertEqual(file_recursion.FileRecursion.find_files('.c', None), [])\n",
    "        self.assertEqual(mock_isfile.call_count, 0)\n",
    "\n",
    "    # Path name is a directory with subdirectories\n",
    "    #\n",
    "    # /top_dir ----> dir1 -----> a.c\n",
    "    #    |             |-------> b.c\n",
    "    # .  |---------> dir2 -----> e.txt\n",
    "    # top_dir has two directroies 'dir1' & 'dir2'\n",
    "    # 'dir1' has two matching files - a.c & b.c\n",
    "    # 'dir2' has a file but suffix of that file doesn't match\n",
    "    # \n",
    "    @mock.patch('file_recursion.os.path.isfile')\n",
    "    @mock.patch('file_recursion.os.listdir')\n",
    "    def test_find_file_when_multiple_files_with_suffix_found(self, mock_listdir, mock_isfile):\n",
    "        mock_isfile.side_effect = (False, False, True, True, False, True)\n",
    "        mock_listdir.side_effect = (['dir1', 'dir2'], ['a.c', 'b.c'], ['e.txt'])\n",
    "        self.assertEqual(file_recursion.FileRecursion.find_files('.c', '/top_dir'), ['/top_dir/dir1/a.c', '/top_dir/dir1/b.c'])\n",
    "        self.assertEqual(mock_isfile.call_count, 6)\n",
    "        self.assertEqual(mock_listdir.call_count, 3)\n",
    "        mock_isfile.called_with('/top_dir', '/top_dir/dir1', '/top_dir/dir1/a.c', '/top_dir/dir1/b.c', '/top_dir/dir2', '/top_dir/dir2/e.txt')\n",
    "\n",
    "if __name__ == '__main__':\n",
    "    unittest.main(argv=['first-arg-is-ignored'], exit=False)\n",
    "\n",
    "\n",
    "\n"
   ]
  }
 ],
 "metadata": {
  "kernelspec": {
   "display_name": "Python 3",
   "language": "python",
   "name": "python3"
  },
  "language_info": {
   "codemirror_mode": {
    "name": "ipython",
    "version": 3
   },
   "file_extension": ".py",
   "mimetype": "text/x-python",
   "name": "python",
   "nbconvert_exporter": "python",
   "pygments_lexer": "ipython3",
   "version": "3.7.1"
  }
 },
 "nbformat": 4,
 "nbformat_minor": 2
}
